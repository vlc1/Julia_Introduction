{
 "cells": [
  {
   "cell_type": "markdown",
   "metadata": {},
   "source": [
    "<img class=\"julia-logo\"\n",
    "     src=\"https://upload.wikimedia.org/wikipedia/commons/1/1f/Julia_Programming_Language_Logo.svg\"\n",
    "     alt=\"\"\n",
    "     width=\"200\">\n",
    "\n",
    "# Présentation de `Julia`\n",
    "\n",
    "`Julia` est un langage de programmation de haut niveau dédié au calcul scientifique et calcul haute performance. C'est un logiciel libre sous \"licence MIT\" : <https://github.com/JuliaLang/julia/blob/master/LICENSE.md>.\n",
    "\n",
    "`Julia` se veut la combinaison de :\n",
    "\n",
    "* la facilité de développement des environnements interprétés comme `R`, `Matlab`, `Octave`, `Scilab`, `Python`...\n",
    "* la performance d'un langage compilé, permettant une exécution parallèle et/ou distribuée `C`, `C++`, `Fortran`...\n",
    "\n",
    "`Julia` est jeune à l'échelle de l'âge des langages. On peut voir son activité de développement sous [Github](https://github.com/JuliaLang/julia), naissance en *aôut 2009* !\n",
    "\n",
    "Ce langage possède déjà un grand nombre d'atouts :\n",
    "\n",
    "* des fonctions mathématiques de précision numérique étendue (`Int128`, `Float64`...).\n",
    "* de nombreuses bibliothèques  (ou package) dont beaucoup écrites en `Julia` (voir [JuliaHub](https://juliahub.com/ui/Home/)).\n",
    "* l'intégration naturelle de très nombreuses bibliothèques en `C`, `Fortran`, `Python`...\n",
    "* mais surtout l'usage d'un compilateur à la volée (*Just In Time*) !\n",
    "\n",
    "Les quelques pages qui suivent vont vous guider dans l'usage de `Julia` il est possible également de consulter :\n",
    "\n",
    "* Le site officiel (<http://julialang.org/>) avec une documentation très complète.\n",
    "* Un excellent et très complet guide de Julia : <http://en.wikibooks.org/wiki/Introducing_Julia>.\n",
    "\n",
    "\n",
    "# Installation et accessibilité\n",
    "\n",
    "## Le terminal \n",
    "\n",
    "Julia est disponible sous tout OS (Mac, Linux et Windows). La page de téléchargement officielle se trouve à l'adresse suivante : <http://julialang.org/downloads/>.\n",
    "\n",
    "Une fois installé, une interface apparait, en fait, une simple console ou REPL pour *Read/Evaluate/Print/Loop* :\n",
    "\n",
    "```\n",
    "               _\n",
    "   _       _ _(_)_     |  Documentation: https://docs.julialang.org\n",
    "  (_)     | (_) (_)    |\n",
    "   _ _   _| |_  __ _   |  Type \"?\" for help, \"]?\" for Pkg help.\n",
    "  | | | | | | |/ _` |  |\n",
    "  | | |_| | | | (_| |  |  Version 1.5.1 (2020-08-25)\n",
    " _/ |\\__'_|_|_|\\__'_|  |  \n",
    "|__/                   |\n",
    "\n",
    "julia>\n",
    "```\n",
    "\n",
    "Le prompt `julia` invitant la commande... \n",
    "\n",
    "Dans la console de `Julia` on retrouve l'usage classique d'un terminal avec\n",
    "\n",
    "* \"flèche vers le haut\" pour rappeler une commande précédente.\n",
    "* \"Tab\" la tabulation qui complète ou propose la fin d'un mot.\n",
    "* Des commandes `pwd()` (affiche le répertoire courant) `cd()` (change de répertoire), `homedir()` (pointe sur le répertoire *home*)...\n",
    "* l'usage de `;` dans la console fait changer le prompt en\n",
    "```julia\n",
    "shell>\n",
    "```\n",
    "et donne directement accès aux commande `shell` (unix...).\n",
    "* L'aide peut être invoquée avec `help(\"sin\")` ou `?sin` le prompt se transformant de nouveau.\n",
    "```julia\n",
    "help?>\n",
    "```\n",
    "* Un autre mode enfin sur lequel on reviendra plus loin, le mode `Pkg`, est invoqué avec `[`.\n",
    "```julia\n",
    "(@v1.5) pkg>\n",
    "```\n",
    "\n",
    "## Usage \n",
    "\n",
    "Un programme `Julia` est un script, contenu dans un fichir d'extension `.jl`. On peut soit l'exécuter en ligne de commande `julia nomfichier.jl` ou en l'incluant depuis le terminal `Julia` comme suit :"
   ]
  },
  {
   "cell_type": "code",
   "execution_count": null,
   "metadata": {},
   "outputs": [],
   "source": [
    "include(\"hello.jl\")"
   ]
  },
  {
   "cell_type": "markdown",
   "metadata": {},
   "source": [
    "Toute ligne ou fin de ligne commançant par `#` est en commentaire. Un bloc peut également être commenté lorsqu'il est délimité par `#=` et `=#` :"
   ]
  },
  {
   "cell_type": "code",
   "execution_count": null,
   "metadata": {},
   "outputs": [],
   "source": [
    "# commentaire\n",
    "1 + 2 # commentaire en fin de ligne\n",
    "\n",
    "#=\n",
    "un bloc\n",
    "complet\n",
    "de commentaires\n",
    "=#        "
   ]
  },
  {
   "cell_type": "markdown",
   "metadata": {},
   "source": [
    "## Editeur à coloration syntaxique\n",
    "\n",
    "Il est parfaitement possible de travailler à l'aide d'un éditeur de texte et de la console en parallèle.\n",
    "\n",
    "Il existe des fichier de configuration pour la coloration syntaxique dans les éditeurs :\n",
    "\n",
    "* Gedit,\n",
    "* emacs,\n",
    "* Notepad++ (rechercher *\"julia syntax highlighting\"*),\n",
    "* Sublime Text 3,\n",
    "* Atom...\n",
    "\n",
    "Certains offre la possibilité de gérer un terminal dans une fenêtre.\n",
    "\n",
    "## Environnement intégré (IDE)\n",
    "\n",
    "Les efforts de développement d'IDE pour `Julia` semblent s'être récemment concentrés sur la solution *Julia for VSCode*, voir l'adresse suivante : <https://www.julia-vscode.org/>.\n",
    "\n",
    "## Notebook\n",
    "\n",
    "Le notebook (dont ce tutoriel adopte le format) est une façon de programmer qui permet d'obtenir plus directement un rendu plus web-publiable. La plateforme `Jupyter` qui héberge les notebooks, offre des possibilités d'intéraction supplémentaire avec l'utilisation de widgets... \n",
    "\n",
    "On peut installer sur sa propre machine une instance de [`Jupyter`](http://jupyter.org/) (ex `iPython`) permettant de travailler dans son navigateur. Pour cela il faut installer le package [`IJulia`](https://github.com/JuliaLang/IJulia.jl).\n",
    "\n",
    "Dans le terminal (REPL) taper \"]\" :\n",
    "```julia\n",
    "(v1.5) pkg> add IJulia\n",
    "julia> using IJulia\n",
    "julia> notebook()\n",
    "```\n",
    "\n",
    "On peut aussi convertir un fichier notebook (extension `.ipynb`) en fichier `.jl` (ou autre), par exemple depuis l'interface Jupyter en faisant : `File->Download as`.\n"
   ]
  },
  {
   "cell_type": "markdown",
   "metadata": {
    "collapsed": true
   },
   "source": [
    "# Les Packages\n",
    "\n",
    "Julia possède une communauté très dynamique, à la fois pour développer le cœur du langage mais aussi pour mettre à disposition de nouvelles fonctionnalités qui pour certaines feront partie des prochaines versions de Julia.\n",
    "\n",
    "Un listing complet des packages officiels et disponible à l'adresse suivante : <https://juliahub.com/ui/Home/>.\n",
    "\n",
    "Depuis le REPL, pour installer un package (ici, `IJulia`) faire `]` puis\n",
    "```julia\n",
    "(v1.5) pkg> add IJulia\n",
    "```\n",
    "\n",
    "Pour faire la même chose depuis un notebook,"
   ]
  },
  {
   "cell_type": "code",
   "execution_count": null,
   "metadata": {},
   "outputs": [],
   "source": [
    "]add IJulia"
   ]
  },
  {
   "cell_type": "markdown",
   "metadata": {},
   "source": [
    "et il est installé physiquement dans votre espace disque (répertoire .julia/).\n",
    "\n",
    "L'utilisation se fait en début de chaque programme (ou script) par la commande `using`. L'initialisation est assez longue (pour les versions `0.3.xx`) le package étant compilé en direct. Depuis la version `0.4` les packages sont compilés (ou pré-compilés) à l'installation ou premier usage et stockés en fichier pour être rechargés plus rapidement ultérieurement."
   ]
  },
  {
   "cell_type": "code",
   "execution_count": null,
   "metadata": {},
   "outputs": [],
   "source": [
    "using IJulia"
   ]
  },
  {
   "cell_type": "markdown",
   "metadata": {},
   "source": [
    "La commande Pkg permet de gérer d'autres actions. Depuis le REPL par exemple, faire \"]\" puis\n",
    "```\n",
    "(v1.5) pkg> rm IJulia\n",
    "```\n",
    "pour désinstaller le package `IJulia` ou\n",
    "```\n",
    "(v1.5) pkg> update\n",
    "```\n",
    "pour mettre à jour l'ensemble des packages déjà installés.\n",
    "\n",
    "On verra dans les sections suivantes l'utilisation de quelques packages plus prisés et même (pour ceux que cela intéresse) jusqu'à la création d'un package !"
   ]
  }
 ],
 "metadata": {
  "@webio": {
   "lastCommId": "c43e7673673c49948fb374ad83a12dc6",
   "lastKernelId": "91606e27-ee0f-4ad7-bfa5-25e0144c3cbb"
  },
  "kernelspec": {
   "display_name": "Julia 1.5.1",
   "language": "julia",
   "name": "julia-1.5"
  },
  "language_info": {
   "file_extension": ".jl",
   "mimetype": "application/julia",
   "name": "julia",
   "version": "1.5.1"
  },
  "toc": {
   "base_numbering": 1,
   "nav_menu": {},
   "number_sections": true,
   "sideBar": true,
   "skip_h1_title": false,
   "title_cell": "Table of Contents",
   "title_sidebar": "Contents",
   "toc_cell": false,
   "toc_position": {},
   "toc_section_display": true,
   "toc_window_display": false
  }
 },
 "nbformat": 4,
 "nbformat_minor": 1
}
