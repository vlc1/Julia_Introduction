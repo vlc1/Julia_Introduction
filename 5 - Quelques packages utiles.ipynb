{
 "cells": [
  {
   "cell_type": "markdown",
   "metadata": {},
   "source": [
    "# Packages utiles\n",
    "\n",
    "Comme vu dans l'introduction JULIA possède une bibliothèque de package assez grande dont il n'est pas forcément aisé d'en faire le tri...\n",
    "\n",
    "Je vous propose ici la description et utilisation de quelques classiques\n",
    "\n",
    "En premier lieu un packages graphiques :\n",
    "* **Plots**\n",
    "* avec des backend **Gr**, **PyPlot**, **Plotly**\n",
    "\n",
    "et deux packages plus \"statistiques\" : \n",
    "\n",
    "* **DataFrames**\n",
    "* **Rdatasets**\n",
    "\n",
    "# Graphiques\n",
    "\n",
    "La gestion graphique ne fait pas partie intégrante de JULIA il faut faire appel à des packages extérieurs et plusieurs choix sont possibles. En voici quelques uns\n",
    "\n",
    "## Plots\n",
    "\n",
    "Plots est basé sur une bibliothèque éprouvée MatPlotLib (en Python). Sa syntaxe est identique à celle de MATLAB "
   ]
  },
  {
   "cell_type": "code",
   "execution_count": null,
   "metadata": {},
   "outputs": [],
   "source": [
    "(v1.1) pkg> add Plots\n",
    "(v1.1) pkg> add PlotlyJS\n",
    "(v1.1) pkg> add PyPlot"
   ]
  },
  {
   "cell_type": "code",
   "execution_count": null,
   "metadata": {},
   "outputs": [],
   "source": [
    "using Plots "
   ]
  },
  {
   "cell_type": "code",
   "execution_count": null,
   "metadata": {},
   "outputs": [],
   "source": [
    "x=range(0,stop=1,length=3000);\n",
    "plot(x,sin.(10*x))"
   ]
  },
  {
   "cell_type": "code",
   "execution_count": null,
   "metadata": {},
   "outputs": [],
   "source": [
    "x=range(0,stop=1,length=3000);\n",
    "plot(x,sin.(10*x))\n",
    "plot!(x,cos.(10*x))\n"
   ]
  },
  {
   "cell_type": "code",
   "execution_count": null,
   "metadata": {},
   "outputs": [],
   "source": [
    "subplot(2,1,1)\n",
    "plot(x,sin.(x),\"g\",linewidth=2.0)\n",
    "subplot(2,1,2)\n",
    "plot(x,x,\"r\")\n",
    "grid(true)\n",
    "title(\"tracé 2\")"
   ]
  },
  {
   "cell_type": "code",
   "execution_count": null,
   "metadata": {},
   "outputs": [],
   "source": [
    "n=1024\n",
    "X=randn(n)\n",
    "Y=randn(n)\n",
    "scatter(X,Y)"
   ]
  },
  {
   "cell_type": "code",
   "execution_count": null,
   "metadata": {},
   "outputs": [],
   "source": [
    "X=rand(5)\n",
    "Y=-rand(5)\n",
    "bar(1:5,X,facecolor=\"#9999ff\", edgecolor=\"white\")\n",
    "bar(1:5,Y,facecolor=\"#ff9999\", edgecolor=\"white\")\n",
    "for i=1:5\n",
    "    txt=string(X[i])\n",
    "    text(i+0.1,X[i]+0.01,txt[1:7])\n",
    "    txt=string(Y[i])\n",
    "    text(i+0.1,Y[i]-0.08,txt[1:7])\n",
    "end\n",
    "ylim(-1.2,1.2)"
   ]
  },
  {
   "cell_type": "code",
   "execution_count": null,
   "metadata": {},
   "outputs": [],
   "source": [
    "z=rand(20)\n",
    "pie(z);"
   ]
  },
  {
   "cell_type": "code",
   "execution_count": null,
   "metadata": {},
   "outputs": [],
   "source": [
    "contour(rand(50,50))\n",
    "colorbar()"
   ]
  },
  {
   "cell_type": "code",
   "execution_count": null,
   "metadata": {},
   "outputs": [],
   "source": [
    "surf(rand(50,50))"
   ]
  },
  {
   "cell_type": "code",
   "execution_count": null,
   "metadata": {},
   "outputs": [],
   "source": [
    "X=[x for x=-1:0.2:1, y=-1:0.2:1]\n",
    "Y=[y for x=-1:0.2:1, y=-1:0.2:1]\n",
    "quiver(-1:0.2:1,-1:0.2:1,X,Y)"
   ]
  },
  {
   "cell_type": "markdown",
   "metadata": {},
   "source": [
    "D'autres packages sont disponible Gadfly, Winston, AsciiPlot, GLVisualize..."
   ]
  },
  {
   "cell_type": "markdown",
   "metadata": {},
   "source": [
    "## Type DataFrames\n",
    "\n",
    "But : travailler avec des tables de données.\n",
    "Ce sont des tables dont les colonnes sont des DataArray. Voici deux façons de construire des DataFrames :"
   ]
  },
  {
   "cell_type": "code",
   "execution_count": null,
   "metadata": {},
   "outputs": [],
   "source": [
    "using DataFrames"
   ]
  },
  {
   "cell_type": "code",
   "execution_count": null,
   "metadata": {},
   "outputs": [],
   "source": [
    "df = DataFrame(A = 1:4, B = [\"M\", \"F\", \"F\", \"M\"])"
   ]
  },
  {
   "cell_type": "code",
   "execution_count": null,
   "metadata": {},
   "outputs": [],
   "source": [
    "df = DataFrame()\n",
    "df[:A] = 1:8;\n",
    "df[:B] = [\"M\", \"F\", \"F\", \"M\", \"F\", \"M\", \"M\", \"F\"];\n",
    "df"
   ]
  },
  {
   "cell_type": "code",
   "execution_count": null,
   "metadata": {},
   "outputs": [],
   "source": [
    "nrows = size(df, 1) # nombre de ligne\n",
    "ncols = size(df, 2) # nombre de colonne"
   ]
  },
  {
   "cell_type": "code",
   "execution_count": null,
   "metadata": {},
   "outputs": [],
   "source": [
    "first(df)#Voir le début du tableau"
   ]
  },
  {
   "cell_type": "code",
   "execution_count": null,
   "metadata": {},
   "outputs": [],
   "source": [
    "last(df) #Voir la fin du tableau"
   ]
  },
  {
   "cell_type": "code",
   "execution_count": null,
   "metadata": {},
   "outputs": [],
   "source": [
    "df[1:3, :] #Voir les lignes 1,2,3 du tableau"
   ]
  },
  {
   "cell_type": "markdown",
   "metadata": {},
   "source": [
    "Nous avons l'analogie avec summarize du logiciel R :"
   ]
  },
  {
   "cell_type": "code",
   "execution_count": null,
   "metadata": {},
   "outputs": [],
   "source": [
    "describe(df)"
   ]
  },
  {
   "cell_type": "markdown",
   "metadata": {},
   "source": [
    "Pour aller plus loin dans le travail statistique sur les Dataframes il nous faut le package RDatasets qui va fournir nombres exemples et on va y retrouver beaucoup de fonctionnalités communes au logiciel R.\n",
    "\n",
    "## RDatasets"
   ]
  },
  {
   "cell_type": "code",
   "execution_count": null,
   "metadata": {},
   "outputs": [],
   "source": [
    "using RDatasets"
   ]
  }
 ],
 "metadata": {
  "@webio": {
   "lastCommId": "5fc57d5c0c69495580f8be93520f4f9c",
   "lastKernelId": "e7af1f00-227b-493b-8ed4-b7a16e682b00"
  },
  "kernelspec": {
   "display_name": "Julia 1.5.1",
   "language": "julia",
   "name": "julia-1.5"
  },
  "language_info": {
   "file_extension": ".jl",
   "mimetype": "application/julia",
   "name": "julia",
   "version": "1.5.1"
  },
  "toc": {
   "base_numbering": 1,
   "nav_menu": {},
   "number_sections": true,
   "sideBar": true,
   "skip_h1_title": false,
   "title_cell": "Table of Contents",
   "title_sidebar": "Contents",
   "toc_cell": false,
   "toc_position": {},
   "toc_section_display": true,
   "toc_window_display": false
  }
 },
 "nbformat": 4,
 "nbformat_minor": 1
}
