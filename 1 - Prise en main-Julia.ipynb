{
 "cells": [
  {
   "cell_type": "markdown",
   "metadata": {},
   "source": [
    "# Prise en main\n",
    "\n",
    "Si l'anglais ne vous effraie pas, cette lecture (tout est dans le titre) est recommandée : <http://learnxinyminutes.com/docs/julia/>.\n",
    "\n",
    "## Fonctions scientifiques\n",
    "\n",
    "Examinons les possibilités de calcul offert par cet environnement ! \n",
    "\n",
    "On est devant une superbe calculatrice comme dans la console de `Matlab`/`Scilab` ou `R`. On a donc l'utilisation\n",
    "\n",
    "* des opérateurs classique `+`, `-`, `*`, `/`, `\\`, et `^`,\n",
    "* toutes les fonctions usuelles : `exp`, `log` (attention ici logarithme Népérien), `log10`, `abs`, `sqrt`, `cbrt`, `sign`...\n",
    "* les fonctions trigonométriques usuelles : `sin`, `cos`, `tan`, `cot`, `sec`, `csc`, `sinh`, `cosh`, `tanh`, `coth`, `sech`, `csch`, `asin`, `acos`, `atan`, `acot`, `asec`, `acsc`, `asinh`, `acosh`, `atanh`, `acoth`, `asech`, `acsch`, `sinc`, `cosc`, `atan2`...\n",
    "* les fonctions d'arrondi : `round`, `floor`, `ceil`, `trunc`...\n",
    "\n",
    "Voir <https://docs.julialang.org/en/v1/manual/mathematical-operations/> pour plus d'exemples.\n"
   ]
  },
  {
   "cell_type": "code",
   "execution_count": null,
   "metadata": {},
   "outputs": [],
   "source": [
    "log(100)"
   ]
  },
  {
   "cell_type": "code",
   "execution_count": null,
   "metadata": {},
   "outputs": [],
   "source": [
    "log10(100)"
   ]
  },
  {
   "cell_type": "markdown",
   "metadata": {},
   "source": [
    "Il est aussi possible d'utiliser les notations scientifiques <code>1e2</code> pour $100$, ainsi que quelques nombre prédéfinis <code>pi</code>, <code>e</code>, <code>im</code> ..."
   ]
  },
  {
   "cell_type": "code",
   "execution_count": null,
   "metadata": {},
   "outputs": [],
   "source": [
    "1e-2"
   ]
  },
  {
   "cell_type": "code",
   "execution_count": null,
   "metadata": {},
   "outputs": [],
   "source": [
    "2*pi"
   ]
  },
  {
   "cell_type": "code",
   "execution_count": null,
   "metadata": {},
   "outputs": [],
   "source": [
    "2π # taper 2\\pi + Tab"
   ]
  },
  {
   "cell_type": "code",
   "execution_count": null,
   "metadata": {},
   "outputs": [],
   "source": [
    "im^2"
   ]
  },
  {
   "cell_type": "markdown",
   "metadata": {},
   "source": [
    "Certaines fonctions sont possèdent un domaine de définition comme <code>sqrt</code>, <code>log</code>... sur $I\\!\\!R$ extensible aux nombres complexes :"
   ]
  },
  {
   "cell_type": "code",
   "execution_count": null,
   "metadata": {},
   "outputs": [],
   "source": [
    "sqrt(-1)"
   ]
  },
  {
   "cell_type": "code",
   "execution_count": null,
   "metadata": {},
   "outputs": [],
   "source": [
    "sqrt(complex(-1))"
   ]
  },
  {
   "cell_type": "markdown",
   "metadata": {},
   "source": [
    "L'ensemble des fonctions scientifique est étendu au calcul complexe !"
   ]
  },
  {
   "cell_type": "code",
   "execution_count": null,
   "metadata": {},
   "outputs": [],
   "source": [
    "sin(1+im)"
   ]
  },
  {
   "cell_type": "markdown",
   "metadata": {},
   "source": [
    "`Julia` possède une algèbre étendue avec la possibilité de divisé par $0$.\n"
   ]
  },
  {
   "cell_type": "code",
   "execution_count": null,
   "metadata": {},
   "outputs": [],
   "source": [
    "1/0"
   ]
  },
  {
   "cell_type": "code",
   "execution_count": null,
   "metadata": {},
   "outputs": [],
   "source": [
    "1/Inf"
   ]
  },
  {
   "cell_type": "code",
   "execution_count": null,
   "metadata": {},
   "outputs": [],
   "source": [
    "Inf+1"
   ]
  },
  {
   "cell_type": "code",
   "execution_count": null,
   "metadata": {},
   "outputs": [],
   "source": [
    "Inf/Inf"
   ]
  },
  {
   "cell_type": "code",
   "execution_count": null,
   "metadata": {},
   "outputs": [],
   "source": [
    "Inf-Inf"
   ]
  },
  {
   "cell_type": "code",
   "execution_count": null,
   "metadata": {},
   "outputs": [],
   "source": [
    "0*Inf"
   ]
  },
  {
   "cell_type": "code",
   "execution_count": null,
   "metadata": {},
   "outputs": [],
   "source": [
    "NaN+1"
   ]
  },
  {
   "cell_type": "markdown",
   "metadata": {},
   "source": [
    "`Inf` et `NaN` représentant l'infini et *Not A Number*. Toutes les formes indéterminées donnent `NaN`, et toute combinaison avec `NaN` renvoit également `NaN`."
   ]
  },
  {
   "cell_type": "markdown",
   "metadata": {},
   "source": [
    "## Variables \n",
    "\n",
    "L'utilisation de variable est très intuitive sans déclaration préalable de type (entier, réel, imaginaire, fraction rationnelle...). Le nom de la variable doit commencer par une lettre entre a-z ou A-Z mais aussi par un underscore ('\\_') ou encore un caractère Unicode, voir l'exemple précédent (π) ou plus loin pour comprendre."
   ]
  },
  {
   "cell_type": "code",
   "execution_count": null,
   "metadata": {},
   "outputs": [],
   "source": [
    "a = 1"
   ]
  },
  {
   "cell_type": "code",
   "execution_count": null,
   "metadata": {},
   "outputs": [],
   "source": [
    "typeof(a)"
   ]
  },
  {
   "cell_type": "code",
   "execution_count": null,
   "metadata": {},
   "outputs": [],
   "source": [
    "b = sqrt(2)"
   ]
  },
  {
   "cell_type": "code",
   "execution_count": null,
   "metadata": {},
   "outputs": [],
   "source": [
    "typeof(b)"
   ]
  },
  {
   "cell_type": "code",
   "execution_count": null,
   "metadata": {},
   "outputs": [],
   "source": [
    "c = 9 // 12"
   ]
  },
  {
   "cell_type": "code",
   "execution_count": null,
   "metadata": {},
   "outputs": [],
   "source": [
    "typeof(c)"
   ]
  },
  {
   "cell_type": "code",
   "execution_count": null,
   "metadata": {},
   "outputs": [],
   "source": [
    "c = a + b\n",
    "typeof(c)"
   ]
  },
  {
   "cell_type": "code",
   "execution_count": null,
   "metadata": {},
   "outputs": [],
   "source": [
    "typeof(π)"
   ]
  },
  {
   "cell_type": "markdown",
   "metadata": {},
   "source": [
    "On voit dans ce qui précède que les variables sont typées, mais un mécanisme automatique de changement de type (comme `Int64` $\\rightarrow$ `Float64`) permet la somme d'un entier et d'un réel. On peut demander à `Julia` d'identifier un entier comme un réel (*float*) avec l'ajout d'un `.`, par exemple\n",
    "```julia\n",
    "a = 1.\n",
    "```\n",
    "\n",
    "Une particularité est de ne pas avoir la possibilité de supprimer une variable !\n",
    "\n",
    "Toujours dans la rubrique particularité on verra que les fonctions sont aussi des variables, il sera donc possible de les passer en argument, de les affecter, etc..."
   ]
  },
  {
   "cell_type": "code",
   "execution_count": null,
   "metadata": {},
   "outputs": [],
   "source": [
    "ρ¹ = 1"
   ]
  },
  {
   "cell_type": "markdown",
   "metadata": {},
   "source": [
    "L'utilisation de caractères spétiaux comme les lettres grecques se font par utilisation d'une syntaxe de type $\\LaTeX$, pour ceux qui connaissent.\n",
    "\n",
    "Dans la plupart des éditeurs il faut commencer par `\\rho` puis la touche `TAB` fait afficher le charactère, soit pour l'exemple précédent\n",
    "```\n",
    "\\rho + TAB + \\^1 + TAB\n",
    "```\n",
    "\n",
    "### Convention et style\n",
    "\n",
    "Julia impose quelques restrictions de nom de variable, de plus les conventions suivantes sont d'usage :\n",
    "\n",
    "* Les noms des variables sont en minuscule.\n",
    "* La séparation des mots dans une variable se fait à l'aide d'un underscore ('\\_'), même si cette pratique n'est pas recommandé pour une question de lisibilité des noms de variable.\n",
    "* Les noms de Types ou de Modules commencent par une lettre majuscule, les majuscules séparant les différents mots du nom de la variable (exemple \"MonModule\").\n",
    "* Les noms des fonctions et macros sont en minuscule sans underscores.\n",
    "* Les fonctions qui modifient en sortie leurs arguments d'entrée s'écrivent avec `!` (*\"bang\"*) en fin.\n"
   ]
  },
  {
   "cell_type": "markdown",
   "metadata": {},
   "source": [
    "## Types de variable\n",
    "\n",
    "Julia n'est pas à proprement parler un \"langage objet\" néanmoins c'est ce que l'on peut appeler un \"langage typé\". En effet ce langage possède un certain nombre de types prédéfinis et permet d'en ajouter à volonté. Les nouveaux types faisant office de structures tel un objet (`C++`/`Java`...) permettant la surcharge des opérateurs standarts `*`, `/`, `+`...\n",
    "\n",
    "### Les nombres scalaires\n",
    "\n",
    "On a vu précédemment que `Julia` est assez flexible sur l'utilisation et affectation des variables et est capable de rendre compatible l'addition d'entiers, réels (*float*)...\n",
    "\n",
    "De manière naturelle on trouve les types :\n",
    "\n",
    "* `Int8`, `UInt8`, `Int16`, `UInt16`, `Int32`, `UInt32`, `Int64`, `UInt64`,`Int128` et `UInt128`.\n",
    "* `Float16` (simple précision càd 8 chiffres significatifs), `Float32` (double précision, soit 16 chiffres significatifs) et `Float64` (32 chiffres significatifs).\n",
    "* `Complex32`, `Complex64` et `Complex128`.\n"
   ]
  },
  {
   "cell_type": "code",
   "execution_count": null,
   "metadata": {},
   "outputs": [],
   "source": [
    "a=1000000000000\n",
    "typeof(a)"
   ]
  },
  {
   "cell_type": "code",
   "execution_count": null,
   "metadata": {},
   "outputs": [],
   "source": [
    "a=10000000000000000000\n",
    "typeof(a)"
   ]
  },
  {
   "cell_type": "code",
   "execution_count": null,
   "metadata": {},
   "outputs": [],
   "source": [
    "b=10\n",
    "println(typeof(b))"
   ]
  },
  {
   "cell_type": "code",
   "execution_count": null,
   "metadata": {},
   "outputs": [],
   "source": [
    "b=Int32(b)\n",
    "println(typeof(b))"
   ]
  },
  {
   "cell_type": "code",
   "execution_count": null,
   "metadata": {},
   "outputs": [],
   "source": [
    "convert(Float64, b)\n",
    "Float64(b)"
   ]
  },
  {
   "cell_type": "code",
   "execution_count": null,
   "metadata": {},
   "outputs": [],
   "source": [
    "c=1.0;\n",
    "println(typeof(c))"
   ]
  },
  {
   "cell_type": "markdown",
   "metadata": {},
   "source": [
    "Il est possible de forcer le type d'une variable à l'aide des commandes <code>Int8()</code>, <code>Int16()</code>...<code>Float32()</code>..."
   ]
  },
  {
   "cell_type": "markdown",
   "metadata": {},
   "source": [
    "Remarque : opérations de type unaire sur une variable\n",
    "\n",
    "| opération | += | -= | *= | /= | \\= | \n",
    "|------|------|------|------|------|------|\n"
   ]
  },
  {
   "cell_type": "code",
   "execution_count": null,
   "metadata": {},
   "outputs": [],
   "source": [
    "a = 1\n",
    "a += 1"
   ]
  },
  {
   "cell_type": "code",
   "execution_count": null,
   "metadata": {},
   "outputs": [],
   "source": [
    "a *= 3"
   ]
  },
  {
   "cell_type": "markdown",
   "metadata": {},
   "source": [
    "### Les booléens\n",
    "\n",
    "Les variables booléennes (1 bit) sont naturellement définies dans `Julia` à l'aide des opérateurs de comparaison :\n",
    "\n",
    "| opération |égalité|différent| supérieur | supérieur ou égal | inférieur | inférieur ou égal|\n",
    "|:----:|:----:|:----:|:----:|:----:|:----:|:----:|\n",
    "| syntaxe | `a == b` | `a != b` | `a > b` | `a >= b` | `a < b` | `a <= b` |\n",
    "\n",
    "et avec les opérateurs de conjonctions\n",
    "\n",
    "| et | ou | not |\n",
    "|-|-|-|\n",
    "| & | &#124; | !|\n"
   ]
  },
  {
   "cell_type": "code",
   "execution_count": null,
   "metadata": {},
   "outputs": [],
   "source": [
    "a = 1 > 0\n",
    "println(a)\n",
    "typeof(a)"
   ]
  },
  {
   "cell_type": "code",
   "execution_count": null,
   "metadata": {},
   "outputs": [],
   "source": [
    "!((a & true) & (a | false)) "
   ]
  },
  {
   "cell_type": "code",
   "execution_count": null,
   "metadata": {},
   "outputs": [],
   "source": [
    "2 > 1 & 0 > -1  "
   ]
  },
  {
   "cell_type": "markdown",
   "metadata": {},
   "source": [
    "### Les chaines de caractère\n",
    "\n",
    "`Julia` possède un type `Char` (charactère) il s'agit d'une lettre délimité par '' à ne pas confondre avec la chaine de caractères (`String`).\n"
   ]
  },
  {
   "cell_type": "code",
   "execution_count": null,
   "metadata": {},
   "outputs": [],
   "source": [
    "z = 'a'"
   ]
  },
  {
   "cell_type": "code",
   "execution_count": null,
   "metadata": {},
   "outputs": [],
   "source": [
    "z = z + 1 # en ajoutant 1 on passe aux charactère suivant dans la table "
   ]
  },
  {
   "cell_type": "markdown",
   "metadata": {},
   "source": [
    "La chaine de caractère est délimitée par \"\" et de type `String`."
   ]
  },
  {
   "cell_type": "code",
   "execution_count": null,
   "metadata": {},
   "outputs": [],
   "source": [
    "a = \"Une chaine de caractère\\n\" # \\n est le retour à la ligne"
   ]
  },
  {
   "cell_type": "code",
   "execution_count": null,
   "metadata": {},
   "outputs": [],
   "source": [
    "print(a)"
   ]
  },
  {
   "cell_type": "code",
   "execution_count": null,
   "metadata": {},
   "outputs": [],
   "source": [
    "typeof(a)"
   ]
  },
  {
   "cell_type": "markdown",
   "metadata": {},
   "source": [
    "La concaténation de chaîne se fait par l'utilisation de `*` (multiplication)"
   ]
  },
  {
   "cell_type": "code",
   "execution_count": null,
   "metadata": {},
   "outputs": [],
   "source": [
    "b = a * \"puis une autre...\" "
   ]
  },
  {
   "cell_type": "code",
   "execution_count": null,
   "metadata": {},
   "outputs": [],
   "source": [
    "println(b)  # \\n renvoie à la ligne"
   ]
  },
  {
   "cell_type": "markdown",
   "metadata": {},
   "source": [
    "On peut extraire ou affecter une partie de cette chaîne considérée comme un tableau"
   ]
  },
  {
   "cell_type": "code",
   "execution_count": null,
   "metadata": {},
   "outputs": [],
   "source": [
    "a[1:10]"
   ]
  },
  {
   "cell_type": "markdown",
   "metadata": {},
   "source": [
    "#### ATTENTION "
   ]
  },
  {
   "cell_type": "code",
   "execution_count": null,
   "metadata": {},
   "outputs": [],
   "source": [
    "a[1] # le résultat est de type Char"
   ]
  },
  {
   "cell_type": "code",
   "execution_count": null,
   "metadata": {},
   "outputs": [],
   "source": [
    "a[1:1]"
   ]
  },
  {
   "cell_type": "code",
   "execution_count": null,
   "metadata": {},
   "outputs": [],
   "source": [
    "println(string(typeof(a[1])) * \"\\n\")\n",
    "println(string(typeof(a[1:1])))"
   ]
  },
  {
   "cell_type": "markdown",
   "metadata": {},
   "source": [
    "L'usage de `$` permet comme en `PhP` de convertir et d'inclure une variable dans une chaîne de caractères (interpolation)."
   ]
  },
  {
   "cell_type": "code",
   "execution_count": null,
   "metadata": {},
   "outputs": [],
   "source": [
    "m = 11\n",
    "a = \"le mois de novembre est le $m ième mois\""
   ]
  },
  {
   "cell_type": "code",
   "execution_count": null,
   "metadata": {},
   "outputs": [],
   "source": [
    "b = \"racine de 2 : $(sqrt(2))\""
   ]
  },
  {
   "cell_type": "markdown",
   "metadata": {},
   "source": [
    "Pour encore plus de possibilités avec les chaînes de caractère : <https://docs.julialang.org/en/v1/manual/strings/#man-strings-1>.\n"
   ]
  }
 ],
 "metadata": {
  "@webio": {
   "lastCommId": "9c2f60332b8f4dae81251a8f24accee5",
   "lastKernelId": "329a786d-7a21-4834-8a37-cdeb34895843"
  },
  "kernelspec": {
   "display_name": "Julia 1.5.1",
   "language": "julia",
   "name": "julia-1.5"
  },
  "language_info": {
   "file_extension": ".jl",
   "mimetype": "application/julia",
   "name": "julia",
   "version": "1.5.1"
  },
  "toc": {
   "base_numbering": 1,
   "nav_menu": {},
   "number_sections": true,
   "sideBar": true,
   "skip_h1_title": false,
   "title_cell": "Table of Contents",
   "title_sidebar": "Contents",
   "toc_cell": false,
   "toc_position": {},
   "toc_section_display": true,
   "toc_window_display": false
  }
 },
 "nbformat": 4,
 "nbformat_minor": 1
}
