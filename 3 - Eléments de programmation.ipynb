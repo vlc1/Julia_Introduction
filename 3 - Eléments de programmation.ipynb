{
 "cells": [
  {
   "cell_type": "markdown",
   "metadata": {},
   "source": [
    "# Eléments de programmation\n",
    "\n",
    "Pour mener à bien un calcul algorithmique le nombre d'éléments de langage n'est pas très important et peut se résumer aux 3 syntaxes suivantes :\n",
    "\n",
    "* Le choix conditionnel `if`... `elseif`... `else`... `end`.\n",
    "* La boucle `for`... `end`.\n",
    "* La boucle `while`... `end`.\n",
    "\n",
    "\n",
    "# `if`... `elseif`... `else`... `end`\n",
    "\n",
    "Un choix simple si le test est vrai (`k == 1`) alors le bloc d'instruction est évalué."
   ]
  },
  {
   "cell_type": "code",
   "execution_count": null,
   "metadata": {},
   "outputs": [],
   "source": [
    "k = 1\n",
    "if k == 1\n",
    "    println(\"k = 1\")\n",
    "end"
   ]
  },
  {
   "cell_type": "markdown",
   "metadata": {},
   "source": [
    "Le `else` permet de donner un résultat par défaut..."
   ]
  },
  {
   "cell_type": "code",
   "execution_count": null,
   "metadata": {},
   "outputs": [],
   "source": [
    "k = 1\n",
    "if k != 1\n",
    "    println(\"k != 1\")\n",
    "else\n",
    "    println(\"k = 1\")\n",
    "end"
   ]
  },
  {
   "cell_type": "markdown",
   "metadata": {},
   "source": [
    "Une succession de `elseif` permet de choisir parmi plusieurs critères, dans la succession des blocs de `if` et `elseif` le premier qui est \"vrai\" est évalué et l'instruction s'arrète.\n"
   ]
  },
  {
   "cell_type": "code",
   "execution_count": null,
   "metadata": {},
   "outputs": [],
   "source": [
    "k = 2\n",
    "if k == 1\n",
    "    println(\"k = 1\")\n",
    "elseif k > 1\n",
    "    println(\"k > 1\")\n",
    "else \n",
    "    println(\"k < 1\")\n",
    "end"
   ]
  },
  {
   "cell_type": "markdown",
   "metadata": {},
   "source": [
    "# La boucle `for`\n",
    "\n",
    "Elle peut se définir à l'aide d'itérateurs ou de tableaux de valeurs les syntaxes `=` ou `in` sont équivalentes.\n"
   ]
  },
  {
   "cell_type": "code",
   "execution_count": null,
   "metadata": {},
   "outputs": [],
   "source": [
    "for i = 1:10\n",
    "    println(i)\n",
    "end"
   ]
  },
  {
   "cell_type": "code",
   "execution_count": null,
   "metadata": {},
   "outputs": [],
   "source": [
    "for i in [\"un\" 2 im]\n",
    "    println(typeof(i))\n",
    "end"
   ]
  },
  {
   "cell_type": "markdown",
   "metadata": {},
   "source": [
    "La commande `break` permet de sortir d'une boucle à tout moment."
   ]
  },
  {
   "cell_type": "code",
   "execution_count": null,
   "metadata": {},
   "outputs": [],
   "source": [
    "for i = 1:1000\n",
    "    println(i)\n",
    "    if i >= 5\n",
    "       break\n",
    "    end\n",
    "end"
   ]
  },
  {
   "cell_type": "markdown",
   "metadata": {},
   "source": [
    "La commande `continue` permet elle de court-circuiter la boucle en court et de passer à la valeur suivante."
   ]
  },
  {
   "cell_type": "code",
   "execution_count": null,
   "metadata": {},
   "outputs": [],
   "source": [
    "for i = 1:10\n",
    "    if i % 3 != 0 # i modulo 3 different de 0\n",
    "        continue\n",
    "    end\n",
    "    println(i)\n",
    "end"
   ]
  },
  {
   "cell_type": "markdown",
   "metadata": {},
   "source": [
    "# La boucle `while`\n",
    "\n",
    "Tant que le test est \"vrai\" le bloc est évalué, le test se faisant en entrée de bloc."
   ]
  },
  {
   "cell_type": "code",
   "execution_count": null,
   "metadata": {},
   "outputs": [],
   "source": [
    "k = 0\n",
    "while k < 10\n",
    "    k += 1 # k = k+1\n",
    "    println(k)\n",
    "end"
   ]
  },
  {
   "cell_type": "markdown",
   "metadata": {},
   "source": [
    "De même que la boucle `for` les commandes `break` et `continue` sont valables..."
   ]
  },
  {
   "cell_type": "code",
   "execution_count": null,
   "metadata": {},
   "outputs": [],
   "source": [
    "k = 0\n",
    "while k < 1000\n",
    "    k += 1 # k = k + 1\n",
    "    if k % 5 != 0 # k modulo 5 diffèrent de 0\n",
    "        continue # retour en début de boucle avec de nouveau un test sur k\n",
    "    end\n",
    "    println(k)\n",
    "    if k > 30\n",
    "        break\n",
    "    end\n",
    "end"
   ]
  },
  {
   "cell_type": "markdown",
   "metadata": {},
   "source": [
    "# Un peu d'optimisation\n",
    "\n",
    "`Julia` est dit un langage performant, regardons rapidement quelques exemples à faire ou ne pas faire.\n",
    "\n",
    "## Exemple de préallocation et utilisation de `push!`"
   ]
  },
  {
   "cell_type": "code",
   "execution_count": null,
   "metadata": {},
   "outputs": [],
   "source": [
    "start = time()\n",
    "A = zeros(0);\n",
    "for i = 1:1000000\n",
    "    A = [A; i] # à chaque itération on change la taille de A\n",
    "end\n",
    "elapsed = time() - start"
   ]
  },
  {
   "cell_type": "code",
   "execution_count": null,
   "metadata": {},
   "outputs": [],
   "source": [
    "typeof(A)"
   ]
  },
  {
   "cell_type": "code",
   "execution_count": null,
   "metadata": {},
   "outputs": [],
   "source": [
    "A"
   ]
  },
  {
   "cell_type": "code",
   "execution_count": null,
   "metadata": {},
   "outputs": [],
   "source": [
    "start = time()\n",
    "A = zeros(0);\n",
    "for i=1:1000000\n",
    "    push!(A,i) # à chaque itération on change la taille de A\n",
    "end\n",
    "elapsed = time() - start"
   ]
  },
  {
   "cell_type": "code",
   "execution_count": null,
   "metadata": {},
   "outputs": [],
   "source": [
    "A"
   ]
  },
  {
   "cell_type": "code",
   "execution_count": null,
   "metadata": {},
   "outputs": [],
   "source": [
    "start = time()\n",
    "A = zeros(Int64,1000000)\n",
    "for i=1:1000000\n",
    "    A[i] = i\n",
    "end\n",
    "elapsed = time() - start"
   ]
  },
  {
   "cell_type": "code",
   "execution_count": null,
   "metadata": {},
   "outputs": [],
   "source": [
    "start = time()\n",
    "A=[i for i=1:1000000]\n",
    "elapsed = time() - start"
   ]
  },
  {
   "cell_type": "code",
   "execution_count": null,
   "metadata": {},
   "outputs": [],
   "source": [
    "typeof(A)"
   ]
  },
  {
   "cell_type": "markdown",
   "metadata": {},
   "source": [
    "Cet exemple montre le coût prohibitif d'une réallocation dynamique qui impose une recopie totale de A à chaque itération.\n",
    "\n",
    "## Exemple de vectorisation\n",
    "\n",
    "Regardons la vectorisation sous `Julia` à l'aide de la construction d'une matrice de Vandermond\n"
   ]
  },
  {
   "cell_type": "code",
   "execution_count": null,
   "metadata": {},
   "outputs": [],
   "source": [
    "start = time()\n",
    "n = 3000\n",
    "x = range(0, stop=1, length=n)\n",
    "V=zeros(n, n)\n",
    "for i = 1:n\n",
    "    V[:, i] = x .^ (i - 1) # calcul vectorisé\n",
    "end\n",
    "elapsed = time() - start"
   ]
  },
  {
   "cell_type": "code",
   "execution_count": null,
   "metadata": {},
   "outputs": [],
   "source": [
    "A = rand(3, 3)\n",
    "A[:, 1] .= 1\n",
    "A"
   ]
  },
  {
   "cell_type": "code",
   "execution_count": null,
   "metadata": {},
   "outputs": [],
   "source": [
    "start = time()\n",
    "n = 3000;\n",
    "x = range(0, stop = 1, length = n)\n",
    "X = zeros(n, n)\n",
    "for i = 1:n\n",
    "    for j = 1:n\n",
    "        X[i, j] = x[i] ^ (j - 1) # calcul dévectorisé\n",
    "    end\n",
    "end\n",
    "elapsed = time() - start"
   ]
  },
  {
   "cell_type": "code",
   "execution_count": null,
   "metadata": {},
   "outputs": [],
   "source": [
    "typeof(X)"
   ]
  },
  {
   "cell_type": "code",
   "execution_count": null,
   "metadata": {},
   "outputs": [],
   "source": [
    "start = time()\n",
    "n = 3000\n",
    "x = range(0, stop = 1, length = n)\n",
    "W=[x[i] ^ (j - 1) for i = 1:n, j = 1:n]\n",
    "elapsed = time() - start"
   ]
  },
  {
   "cell_type": "code",
   "execution_count": null,
   "metadata": {},
   "outputs": [],
   "source": [
    "typeof(W)"
   ]
  },
  {
   "cell_type": "code",
   "execution_count": null,
   "metadata": {},
   "outputs": [],
   "source": [
    "function Vander(n)\n",
    "    x = range(0, stop = 1, length = n)\n",
    "    V = zeros(n, n)\n",
    "    for i = 1:n\n",
    "        for j=1:n\n",
    "            V[i, j] = x[i] ^ (j - 1)\n",
    "        end\n",
    "    end\n",
    "    return V\n",
    "end\n",
    "start = time()\n",
    "Z = Vander(3000)\n",
    "elapsed = time() - start"
   ]
  },
  {
   "cell_type": "code",
   "execution_count": null,
   "metadata": {},
   "outputs": [],
   "source": [
    "start = time()\n",
    "Z=Vander(3000)\n",
    "elapsed = time() - start "
   ]
  },
  {
   "cell_type": "code",
   "execution_count": null,
   "metadata": {},
   "outputs": [],
   "source": [
    "start = time()\n",
    "Z = Vander(3000)\n",
    "elapsed = time() - start  "
   ]
  },
  {
   "cell_type": "code",
   "execution_count": null,
   "metadata": {},
   "outputs": [],
   "source": [
    "function Vander2(n)\n",
    "    x = range(0, stop = 1, length = n)\n",
    "    [x[i] ^ (j - 1) for i = 1:n, j = 1:n]\n",
    "end\n",
    "start = time()\n",
    "Z2=Vander2(3000)\n",
    "elapsed = time() - start "
   ]
  },
  {
   "cell_type": "code",
   "execution_count": null,
   "metadata": {},
   "outputs": [],
   "source": [
    "start = time()\n",
    "Z2=Vander2(3000)\n",
    "elapsed = time() - start  \n",
    "typeof(Z2)"
   ]
  },
  {
   "cell_type": "markdown",
   "metadata": {},
   "source": [
    "La conclusion n'est pas toujours évidente a priori... Néanmoins on peut voir que le fait de mettre le code dans une fonction impose une optimisation à la compilation et une contextualisation du type et que l'écriture explicite des boucles donne un meilleur résultat."
   ]
  }
 ],
 "metadata": {
  "@webio": {
   "lastCommId": "5354e6ccca304e8ca544c73440f78b66",
   "lastKernelId": "a8b5762e-2ff0-4c96-8067-6093b8ef08e4"
  },
  "kernelspec": {
   "display_name": "Julia 1.5.1",
   "language": "julia",
   "name": "julia-1.5"
  },
  "language_info": {
   "file_extension": ".jl",
   "mimetype": "application/julia",
   "name": "julia",
   "version": "1.5.1"
  },
  "toc": {
   "base_numbering": 1,
   "nav_menu": {},
   "number_sections": true,
   "sideBar": true,
   "skip_h1_title": false,
   "title_cell": "Table of Contents",
   "title_sidebar": "Contents",
   "toc_cell": false,
   "toc_position": {},
   "toc_section_display": true,
   "toc_window_display": false
  }
 },
 "nbformat": 4,
 "nbformat_minor": 1
}
