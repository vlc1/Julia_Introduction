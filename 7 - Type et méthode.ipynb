{
 "cells": [
  {
   "cell_type": "markdown",
   "metadata": {},
   "source": [
    "# Type et méthodes\n",
    "\n",
    "JULIA possède un système de type et de méthode qui lui confère une approche objet.\n",
    "La fonction typeof() renvoie le type d'une variable de base Int32, Float64... JULIA est conçu pour permettre facilement d'étendre l'environnement à de nouveaux type de variable.\n",
    "\n",
    "Le types sont organisés suivant un hiérarchie comme on peut le voir sur l'arborescence partielle ci-dessous\n",
    "\n",
    "(arborescence générée à l'aide de https://github.com/tanmaykm/julia_types/blob/master/julia_types.jl)"
   ]
  },
  {
   "cell_type": "raw",
   "metadata": {},
   "source": [
    "+- Any << abstract immutable size:0 >>\n",
    ".  +- Number << abstract immutable size:0 >>\n",
    ".  .  +- Complex128 = Complex{Float64} << concrete immutable pointerfree size:16 >>\n",
    ".  .  +- Complex = Complex{Float32} << concrete immutable pointerfree size:8 >>\n",
    ".  .  +- Complex64 = Complex{Float32} << concrete immutable pointerfree size:8 >>\n",
    ".  .  +- Complex32 = Complex{Float16} << concrete immutable pointerfree size:4 >>\n",
    ".  .  +- Real << abstract immutable size:0 >>\n",
    ".  .  .  +- Rational = Rational{T<:Integer} << concrete immutable size:16 >>\n",
    ".  .  .  +- FloatingPoint << abstract immutable size:0 >>\n",
    ".  .  .  .  +- Float32 << concrete immutable pointerfree size:4 >>\n",
    ".  .  .  .  +- BigFloat << concrete mutable pointerfree size:32 >>\n",
    ".  .  .  .  +- Float64 << concrete immutable pointerfree size:8 >>\n",
    ".  .  .  .  +- Float16 << concrete immutable pointerfree size:2 >>\n",
    ".  .  .  +- Integer << abstract immutable size:0 >>\n",
    ".  .  .  .  +- Signed << abstract immutable size:0 >>\n",
    ".  .  .  .  .  +- Int8 << concrete immutable pointerfree size:1 >>\n",
    ".  .  .  .  .  +- Int16 << concrete immutable pointerfree size:2 >>\n",
    ".  .  .  .  .  +- Int128 << concrete immutable pointerfree size:16 >>\n",
    ".  .  .  .  .  +- Int64 << concrete immutable pointerfree size:8 >>\n",
    ".  .  .  .  .  +- Int = Int64 << concrete immutable pointerfree size:8 >>\n",
    ".  .  .  .  .  +- Int32 << concrete immutable pointerfree size:4 >>\n",
    ".  .  .  .  +- BigInt << concrete mutable pointerfree size:16 >>\n",
    ".  .  .  .  +- Unsigned << abstract immutable size:0 >>\n",
    ".  .  .  .  .  +- Uint = Uint64 << concrete immutable pointerfree size:8 >>\n",
    ".  .  .  .  .  +- Uint8 << concrete immutable pointerfree size:1 >>\n",
    ".  .  .  .  .  +- Uint32 << concrete immutable pointerfree size:4 >>\n",
    ".  .  .  .  .  +- Uint16 << concrete immutable pointerfree size:2 >>\n",
    ".  .  .  .  .  +- Uint128 << concrete immutable pointerfree size:16 >>\n",
    ".  .  .  .  .  +- Uint64 << concrete immutable pointerfree size:8 >>\n"
   ]
  },
  {
   "cell_type": "markdown",
   "metadata": {},
   "source": [
    "Remarquez \"abstract\" et \"concrete\" dans cette arborescence.\n",
    "\n",
    "# Méthodes\n",
    "\n",
    "A chaque fonction est associée une méthode dépendante du type d'entrée comme dans ce qui suit suivant que l'entrée soit un entier ou pas."
   ]
  },
  {
   "cell_type": "code",
   "execution_count": null,
   "metadata": {},
   "outputs": [],
   "source": [
    "function f(x::Any)\n",
    "    sin(x+1)\n",
    "end"
   ]
  },
  {
   "cell_type": "code",
   "execution_count": null,
   "metadata": {},
   "outputs": [],
   "source": [
    "function f(n::Integer)\n",
    "    n\n",
    "end"
   ]
  },
  {
   "cell_type": "code",
   "execution_count": null,
   "metadata": {},
   "outputs": [],
   "source": [
    "f(3.0)"
   ]
  },
  {
   "cell_type": "code",
   "execution_count": null,
   "metadata": {},
   "outputs": [],
   "source": [
    "f(3)"
   ]
  },
  {
   "cell_type": "code",
   "execution_count": null,
   "metadata": {},
   "outputs": [],
   "source": [
    "f(im)"
   ]
  },
  {
   "cell_type": "code",
   "execution_count": null,
   "metadata": {},
   "outputs": [],
   "source": [
    "f(-2)"
   ]
  },
  {
   "cell_type": "code",
   "execution_count": null,
   "metadata": {},
   "outputs": [],
   "source": [
    "+"
   ]
  },
  {
   "cell_type": "code",
   "execution_count": null,
   "metadata": {},
   "outputs": [],
   "source": [
    "+(1,2)"
   ]
  },
  {
   "cell_type": "code",
   "execution_count": null,
   "metadata": {},
   "outputs": [],
   "source": [
    "f(sqrt(2))"
   ]
  },
  {
   "cell_type": "markdown",
   "metadata": {},
   "source": [
    "# Construction d'un nouveau Type de variable\n",
    "\n",
    "En premier lieu il faut définir un type abstrait puis une instance sous-hiérarchiquement concrète :"
   ]
  },
  {
   "cell_type": "code",
   "execution_count": null,
   "metadata": {},
   "outputs": [],
   "source": [
    "abstract type Grid end # juste en dessous de Any\n",
    "mutable struct Grid1d <: Grid\n",
    "    debut::Float64\n",
    "    fin::Float64\n",
    "    n::Int32\n",
    "end"
   ]
  },
  {
   "cell_type": "code",
   "execution_count": null,
   "metadata": {},
   "outputs": [],
   "source": [
    "a=Grid1d(0,1,2)"
   ]
  },
  {
   "cell_type": "code",
   "execution_count": null,
   "metadata": {},
   "outputs": [],
   "source": [
    "a.debut"
   ]
  },
  {
   "cell_type": "code",
   "execution_count": null,
   "metadata": {},
   "outputs": [],
   "source": [
    "a.fin"
   ]
  },
  {
   "cell_type": "code",
   "execution_count": null,
   "metadata": {},
   "outputs": [],
   "source": [
    "a.n"
   ]
  },
  {
   "cell_type": "markdown",
   "metadata": {},
   "source": [
    "# Surcharge des opérateurs\n",
    "\n",
    "La surcharge des opérations usuelles se fait en définissant une nouvelle méthode associé au nouveau type pour chaque opérateur, commençons par surcharger l'affichage à l'écran de notre nouveau type. Pour cela on va ajouter une méthode à la fonction \"show\""
   ]
  },
  {
   "cell_type": "code",
   "execution_count": null,
   "metadata": {},
   "outputs": [],
   "source": [
    "function Base.show(io::IO,g::Grid1d)\n",
    "    print(io, \"Grid 1d : début $(g.debut) , fin $(g.fin) , $(g.n) éléments\\n\")\n",
    "end"
   ]
  },
  {
   "cell_type": "code",
   "execution_count": null,
   "metadata": {},
   "outputs": [],
   "source": [
    "Base.show(a)"
   ]
  },
  {
   "cell_type": "code",
   "execution_count": null,
   "metadata": {},
   "outputs": [],
   "source": [
    "println(a)"
   ]
  },
  {
   "cell_type": "code",
   "execution_count": null,
   "metadata": {},
   "outputs": [],
   "source": [
    "a"
   ]
  },
  {
   "cell_type": "markdown",
   "metadata": {},
   "source": [
    "## Addition, soustraction ...\n",
    "\n",
    "Ces fonctions sont de la forme +(), -() c'est à dire"
   ]
  },
  {
   "cell_type": "code",
   "execution_count": null,
   "metadata": {},
   "outputs": [],
   "source": [
    "import Base:+\n",
    "function +(g::Grid1d,n::Integer)\n",
    "    g.n +=n\n",
    "    return g\n",
    "end"
   ]
  },
  {
   "cell_type": "code",
   "execution_count": null,
   "metadata": {},
   "outputs": [],
   "source": [
    "a=Grid1d(0,1,2)"
   ]
  },
  {
   "cell_type": "code",
   "execution_count": null,
   "metadata": {},
   "outputs": [],
   "source": [
    "a+2"
   ]
  },
  {
   "cell_type": "code",
   "execution_count": null,
   "metadata": {},
   "outputs": [],
   "source": [
    "a+=1"
   ]
  },
  {
   "cell_type": "markdown",
   "metadata": {},
   "source": [
    "Attention l'addition n'est pas forcément commutative !"
   ]
  },
  {
   "cell_type": "code",
   "execution_count": null,
   "metadata": {},
   "outputs": [],
   "source": [
    "2+a"
   ]
  },
  {
   "cell_type": "markdown",
   "metadata": {},
   "source": [
    "ni unaire !"
   ]
  },
  {
   "cell_type": "code",
   "execution_count": null,
   "metadata": {},
   "outputs": [],
   "source": [
    "-a"
   ]
  },
  {
   "cell_type": "markdown",
   "metadata": {},
   "source": [
    "Notez le message d'erreur qui est très claire !"
   ]
  },
  {
   "cell_type": "code",
   "execution_count": null,
   "metadata": {},
   "outputs": [],
   "source": [
    "a+[1,2]"
   ]
  },
  {
   "cell_type": "markdown",
   "metadata": {},
   "source": [
    "## Autres surcharges\n",
    "\n",
    "Toutes les fonctions usuelles sont surchargeable sans limite : size(); det() ..."
   ]
  },
  {
   "cell_type": "code",
   "execution_count": null,
   "metadata": {},
   "outputs": [],
   "source": [
    "function Base.size(g::Grid)\n",
    "    return g.n\n",
    "end"
   ]
  },
  {
   "cell_type": "code",
   "execution_count": null,
   "metadata": {},
   "outputs": [],
   "source": [
    "size(a)"
   ]
  },
  {
   "cell_type": "code",
   "execution_count": null,
   "metadata": {},
   "outputs": [],
   "source": [
    "function Base.det(g::Grid1d)\n",
    "    g.fin-g.debut\n",
    "end "
   ]
  },
  {
   "cell_type": "code",
   "execution_count": null,
   "metadata": {},
   "outputs": [],
   "source": [
    "det(a)"
   ]
  },
  {
   "cell_type": "markdown",
   "metadata": {},
   "source": [
    "# Type et constructeurs\n",
    "\n",
    "Chaque langage \"objet\" définit un constructeur pour ces objets. Nous avons déjà utiliser un constructeur générique qui rempli chaque champ du nouveau type. Il est possible de faire une variante suivant le nombre d'arguments d'entrée et de leur type "
   ]
  },
  {
   "cell_type": "code",
   "execution_count": null,
   "metadata": {},
   "outputs": [],
   "source": [
    "abstract Grid # juste en dessous de Any\n",
    "type Grid1d <: Grid\n",
    "    debut::Float64\n",
    "    fin::Float64\n",
    "    n::Int32\n",
    "    \n",
    "    # constructeurs par défaut sans argument\n",
    "    function Grid1d()\n",
    "        new(0,0,0)\n",
    "    end\n",
    "    \n",
    "    # constructeurs par défaut avec argument\n",
    "    function Grid1d(a,b,c)\n",
    "        if c<=0\n",
    "            error(\"pas possible\")\n",
    "        else\n",
    "            new(a,b,c)\n",
    "        end\n",
    "    end\n",
    "end"
   ]
  },
  {
   "cell_type": "code",
   "execution_count": null,
   "metadata": {},
   "outputs": [],
   "source": [
    "b=Grid1d(0,1,-1)"
   ]
  },
  {
   "cell_type": "markdown",
   "metadata": {
    "collapsed": true
   },
   "source": [
    "Il devient possible de déterminer un constructeurs pour différentes entrées.\n",
    "\n",
    "Il faut au préalable bien penser sa hiérarchie de type et écrire autant de fonctions constructeurs que de cas d'initialisation du nouveau type."
   ]
  },
  {
   "cell_type": "markdown",
   "metadata": {},
   "source": [
    "# Les Itérateurs\n",
    "\n",
    "Il est possible sur un type nouveau de définir un itérateur, comme ici de parcourrir les points de la grille, définissons (surchargeons) de nouvelles fonctions ou plutôt méthodes : "
   ]
  },
  {
   "cell_type": "code",
   "execution_count": null,
   "metadata": {},
   "outputs": [],
   "source": [
    "Base.start(a::Grid1d) = 1\n",
    "\n",
    "function Base.next(a::Grid1d, state)\n",
    "    if state == 1\n",
    "        return (a.debut,2)\n",
    "    else\n",
    "        return (a.debut+(a.fin-a.debut)*(state-1)/a.n , state+1)\n",
    "    end\n",
    "end\n",
    "\n",
    "Base.done(a::Grid1d, state) = state > a.n +1\n",
    "\n"
   ]
  },
  {
   "cell_type": "code",
   "execution_count": null,
   "metadata": {},
   "outputs": [],
   "source": [
    "a=Grid1d(0,1,10)"
   ]
  },
  {
   "cell_type": "code",
   "execution_count": null,
   "metadata": {},
   "outputs": [],
   "source": [
    "start(a)"
   ]
  },
  {
   "cell_type": "code",
   "execution_count": null,
   "metadata": {},
   "outputs": [],
   "source": [
    "next(a,0)"
   ]
  },
  {
   "cell_type": "code",
   "execution_count": null,
   "metadata": {},
   "outputs": [],
   "source": [
    "for i in a\n",
    "    println(i)\n",
    "end"
   ]
  },
  {
   "cell_type": "markdown",
   "metadata": {},
   "source": [
    "Il devient possible de construire des itérateurs sur une grille 2d, 3d renvoyant les coordonnées des points de la grille... Mais on peut imaginer sur une triangulation etc... "
   ]
  }
 ],
 "metadata": {
  "@webio": {
   "lastCommId": "272319406c0c4bad887847b1764702a3",
   "lastKernelId": "5102c8de-ccb2-4cc6-b0df-6ab9145264d0"
  },
  "kernelspec": {
   "display_name": "Julia 1.5.1",
   "language": "julia",
   "name": "julia-1.5"
  },
  "language_info": {
   "file_extension": ".jl",
   "mimetype": "application/julia",
   "name": "julia",
   "version": "1.5.1"
  },
  "toc": {
   "base_numbering": 1,
   "nav_menu": {},
   "number_sections": true,
   "sideBar": true,
   "skip_h1_title": false,
   "title_cell": "Table of Contents",
   "title_sidebar": "Contents",
   "toc_cell": false,
   "toc_position": {},
   "toc_section_display": true,
   "toc_window_display": false
  }
 },
 "nbformat": 4,
 "nbformat_minor": 1
}
